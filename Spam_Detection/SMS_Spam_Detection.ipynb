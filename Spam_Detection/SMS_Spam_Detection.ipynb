{
 "cells": [
  {
   "cell_type": "code",
   "execution_count": 1,
   "metadata": {},
   "outputs": [
    {
     "name": "stdout",
     "output_type": "stream",
     "text": [
      "Requirement already satisfied: nltk in c:\\users\\100ab\\appdata\\local\\programs\\python\\python39\\lib\\site-packages (3.8.1)Note: you may need to restart the kernel to use updated packages.\n"
     ]
    },
    {
     "name": "stderr",
     "output_type": "stream",
     "text": [
      "\n",
      "[notice] A new release of pip is available: 23.2.1 -> 23.3.1\n",
      "[notice] To update, run: python.exe -m pip install --upgrade pip\n"
     ]
    },
    {
     "name": "stdout",
     "output_type": "stream",
     "text": [
      "\n",
      "Collecting gensim\n",
      "  Obtaining dependency information for gensim from https://files.pythonhosted.org/packages/d3/68/373da90a8b241e2603707c7aa4c8f47829a72729c6e9497f2bc604fa6a6a/gensim-4.3.2-cp39-cp39-win_amd64.whl.metadata\n",
      "  Downloading gensim-4.3.2-cp39-cp39-win_amd64.whl.metadata (8.5 kB)\n",
      "Requirement already satisfied: click in c:\\users\\100ab\\appdata\\local\\programs\\python\\python39\\lib\\site-packages (from nltk) (8.1.6)\n",
      "Requirement already satisfied: joblib in c:\\users\\100ab\\appdata\\local\\programs\\python\\python39\\lib\\site-packages (from nltk) (1.3.1)\n",
      "Requirement already satisfied: regex>=2021.8.3 in c:\\users\\100ab\\appdata\\local\\programs\\python\\python39\\lib\\site-packages (from nltk) (2023.10.3)\n",
      "Requirement already satisfied: tqdm in c:\\users\\100ab\\appdata\\local\\programs\\python\\python39\\lib\\site-packages (from nltk) (4.66.1)\n",
      "Requirement already satisfied: numpy>=1.18.5 in c:\\users\\100ab\\appdata\\local\\programs\\python\\python39\\lib\\site-packages (from gensim) (1.25.1)\n",
      "Requirement already satisfied: scipy>=1.7.0 in c:\\users\\100ab\\appdata\\local\\programs\\python\\python39\\lib\\site-packages (from gensim) (1.11.1)\n",
      "Collecting smart-open>=1.8.1 (from gensim)\n",
      "  Obtaining dependency information for smart-open>=1.8.1 from https://files.pythonhosted.org/packages/fc/d9/d97f1db64b09278aba64e8c81b5d322d436132df5741c518f3823824fae0/smart_open-6.4.0-py3-none-any.whl.metadata\n",
      "  Downloading smart_open-6.4.0-py3-none-any.whl.metadata (21 kB)\n",
      "Requirement already satisfied: colorama in c:\\users\\100ab\\appdata\\roaming\\python\\python39\\site-packages (from click->nltk) (0.4.6)\n",
      "Downloading gensim-4.3.2-cp39-cp39-win_amd64.whl (24.0 MB)\n",
      "   ---------------------------------------- 0.0/24.0 MB ? eta -:--:--\n",
      "   ---------------------------------------- 0.0/24.0 MB 1.3 MB/s eta 0:00:19\n",
      "   ---------------------------------------- 0.1/24.0 MB 1.4 MB/s eta 0:00:17\n",
      "   ---------------------------------------- 0.3/24.0 MB 2.0 MB/s eta 0:00:13\n",
      "    --------------------------------------- 0.5/24.0 MB 2.7 MB/s eta 0:00:09\n",
      "   - -------------------------------------- 0.6/24.0 MB 2.8 MB/s eta 0:00:09\n",
      "   - -------------------------------------- 1.0/24.0 MB 3.9 MB/s eta 0:00:06\n",
      "   -- ------------------------------------- 1.2/24.0 MB 3.9 MB/s eta 0:00:06\n",
      "   -- ------------------------------------- 1.6/24.0 MB 4.4 MB/s eta 0:00:06\n",
      "   --- ------------------------------------ 2.3/24.0 MB 5.4 MB/s eta 0:00:04\n",
      "   ---- ----------------------------------- 3.0/24.0 MB 6.4 MB/s eta 0:00:04\n",
      "   ----- ---------------------------------- 3.4/24.0 MB 6.6 MB/s eta 0:00:04\n",
      "   ------ --------------------------------- 4.2/24.0 MB 7.4 MB/s eta 0:00:03\n",
      "   ------- -------------------------------- 4.8/24.0 MB 7.8 MB/s eta 0:00:03\n",
      "   -------- ------------------------------- 5.4/24.0 MB 8.2 MB/s eta 0:00:03\n",
      "   ---------- ----------------------------- 6.0/24.0 MB 8.6 MB/s eta 0:00:03\n",
      "   ----------- ---------------------------- 6.7/24.0 MB 8.9 MB/s eta 0:00:02\n",
      "   ------------ --------------------------- 7.3/24.0 MB 9.2 MB/s eta 0:00:02\n",
      "   ------------- -------------------------- 8.0/24.0 MB 9.5 MB/s eta 0:00:02\n",
      "   -------------- ------------------------- 8.8/24.0 MB 9.7 MB/s eta 0:00:02\n",
      "   --------------- ------------------------ 9.5/24.0 MB 9.9 MB/s eta 0:00:02\n",
      "   ---------------- ----------------------- 10.0/24.0 MB 10.1 MB/s eta 0:00:02\n",
      "   ----------------- ---------------------- 10.7/24.0 MB 11.9 MB/s eta 0:00:02\n",
      "   ------------------ --------------------- 11.4/24.0 MB 12.8 MB/s eta 0:00:01\n",
      "   ------------------- -------------------- 12.0/24.0 MB 13.4 MB/s eta 0:00:01\n",
      "   --------------------- ------------------ 12.7/24.0 MB 13.4 MB/s eta 0:00:01\n",
      "   ---------------------- ----------------- 13.4/24.0 MB 13.6 MB/s eta 0:00:01\n",
      "   ----------------------- ---------------- 14.0/24.0 MB 13.6 MB/s eta 0:00:01\n",
      "   ------------------------ --------------- 14.5/24.0 MB 13.6 MB/s eta 0:00:01\n",
      "   ------------------------- -------------- 15.2/24.0 MB 13.9 MB/s eta 0:00:01\n",
      "   --------------------------- ------------ 16.3/24.0 MB 14.6 MB/s eta 0:00:01\n",
      "   --------------------------- ------------ 16.8/24.0 MB 14.2 MB/s eta 0:00:01\n",
      "   ---------------------------- ----------- 17.1/24.0 MB 14.2 MB/s eta 0:00:01\n",
      "   ---------------------------- ----------- 17.1/24.0 MB 14.2 MB/s eta 0:00:01\n",
      "   ---------------------------- ----------- 17.1/24.0 MB 12.9 MB/s eta 0:00:01\n",
      "   ---------------------------- ----------- 17.1/24.0 MB 12.9 MB/s eta 0:00:01\n",
      "   ---------------------------- ----------- 17.1/24.0 MB 12.9 MB/s eta 0:00:01\n",
      "   ---------------------------- ----------- 17.1/24.0 MB 12.9 MB/s eta 0:00:01\n",
      "   ---------------------------- ----------- 17.1/24.0 MB 12.9 MB/s eta 0:00:01\n",
      "   ---------------------------- ----------- 17.1/24.0 MB 12.9 MB/s eta 0:00:01\n",
      "   ---------------------------- ----------- 17.1/24.0 MB 12.9 MB/s eta 0:00:01\n",
      "   ---------------------------- ----------- 17.1/24.0 MB 12.9 MB/s eta 0:00:01\n",
      "   ---------------------------- ----------- 17.1/24.0 MB 12.9 MB/s eta 0:00:01\n",
      "   ---------------------------- ----------- 17.1/24.0 MB 12.9 MB/s eta 0:00:01\n",
      "   ----------------------------- ---------- 17.8/24.0 MB 8.0 MB/s eta 0:00:01\n",
      "   -------------------------------- ------- 19.5/24.0 MB 8.6 MB/s eta 0:00:01\n",
      "   ---------------------------------- ----- 20.5/24.0 MB 8.7 MB/s eta 0:00:01\n",
      "   ----------------------------------- ---- 21.4/24.0 MB 8.7 MB/s eta 0:00:01\n",
      "   ------------------------------------- -- 22.5/24.0 MB 9.1 MB/s eta 0:00:01\n",
      "   -------------------------------------- - 23.2/24.0 MB 9.1 MB/s eta 0:00:01\n",
      "   ---------------------------------------  23.7/24.0 MB 9.1 MB/s eta 0:00:01\n",
      "   ---------------------------------------  24.0/24.0 MB 9.0 MB/s eta 0:00:01\n",
      "   ---------------------------------------  24.0/24.0 MB 9.0 MB/s eta 0:00:01\n",
      "   ---------------------------------------  24.0/24.0 MB 9.0 MB/s eta 0:00:01\n",
      "   ---------------------------------------- 24.0/24.0 MB 8.0 MB/s eta 0:00:00\n",
      "Downloading smart_open-6.4.0-py3-none-any.whl (57 kB)\n",
      "   ---------------------------------------- 0.0/57.0 kB ? eta -:--:--\n",
      "   ---------------------------------------- 57.0/57.0 kB ? eta 0:00:00\n",
      "Installing collected packages: smart-open, gensim\n",
      "Successfully installed gensim-4.3.2 smart-open-6.4.0\n"
     ]
    }
   ],
   "source": [
    "pip install nltk gensim"
   ]
  },
  {
   "cell_type": "code",
   "execution_count": 2,
   "metadata": {},
   "outputs": [
    {
     "name": "stderr",
     "output_type": "stream",
     "text": [
      "[nltk_data] Downloading package punkt to\n",
      "[nltk_data]     C:\\Users\\100ab\\AppData\\Roaming\\nltk_data...\n",
      "[nltk_data]   Package punkt is already up-to-date!\n",
      "[nltk_data] Downloading package stopwords to\n",
      "[nltk_data]     C:\\Users\\100ab\\AppData\\Roaming\\nltk_data...\n",
      "[nltk_data]   Package stopwords is already up-to-date!\n"
     ]
    },
    {
     "data": {
      "text/plain": [
       "True"
      ]
     },
     "execution_count": 2,
     "metadata": {},
     "output_type": "execute_result"
    }
   ],
   "source": [
    "import nltk\n",
    "nltk.download('punkt')\n",
    "nltk.download('stopwords')"
   ]
  },
  {
   "cell_type": "code",
   "execution_count": 32,
   "metadata": {},
   "outputs": [
    {
     "name": "stdout",
     "output_type": "stream",
     "text": [
      "Libraries imported successfully!\n"
     ]
    }
   ],
   "source": [
    "import pandas as pd\n",
    "import numpy as np\n",
    "import sklearn\n",
    "import gensim\n",
    "import joblib\n",
    "\n",
    "# After Installing NLTK & Gensim and then importing all libraries for future tasks\n",
    "print(\"Libraries imported successfully!\")\n"
   ]
  },
  {
   "cell_type": "code",
   "execution_count": 7,
   "metadata": {},
   "outputs": [
    {
     "name": "stdout",
     "output_type": "stream",
     "text": [
      "     v1                                                 v2 Unnamed: 2  \\\n",
      "0   ham  Go until jurong point, crazy.. Available only ...        NaN   \n",
      "1   ham                      Ok lar... Joking wif u oni...        NaN   \n",
      "2  spam  Free entry in 2 a wkly comp to win FA Cup fina...        NaN   \n",
      "3   ham  U dun say so early hor... U c already then say...        NaN   \n",
      "4   ham  Nah I don't think he goes to usf, he lives aro...        NaN   \n",
      "\n",
      "  Unnamed: 3 Unnamed: 4  \n",
      "0        NaN        NaN  \n",
      "1        NaN        NaN  \n",
      "2        NaN        NaN  \n",
      "3        NaN        NaN  \n",
      "4        NaN        NaN  \n"
     ]
    }
   ],
   "source": [
    "# Load the dataset for SMS Spam: spam.csv\n",
    "data = pd.read_csv(r'C:\\CodSoft_Projects\\archive\\spam.csv' , encoding='latin-1')\n",
    "\n",
    "# Display the first few rows\n",
    "print(data.head())\n"
   ]
  },
  {
   "cell_type": "code",
   "execution_count": 9,
   "metadata": {},
   "outputs": [
    {
     "name": "stdout",
     "output_type": "stream",
     "text": [
      "     v1                                                 v2 Unnamed: 2  \\\n",
      "0   ham  Go until jurong point, crazy.. Available only ...        NaN   \n",
      "1   ham                      Ok lar... Joking wif u oni...        NaN   \n",
      "2  spam  Free entry in 2 a wkly comp to win FA Cup fina...        NaN   \n",
      "3   ham  U dun say so early hor... U c already then say...        NaN   \n",
      "4   ham  Nah I don't think he goes to usf, he lives aro...        NaN   \n",
      "\n",
      "  Unnamed: 3 Unnamed: 4  \n",
      "0        NaN        NaN  \n",
      "1        NaN        NaN  \n",
      "2        NaN        NaN  \n",
      "3        NaN        NaN  \n",
      "4        NaN        NaN  \n"
     ]
    }
   ],
   "source": [
    "# Load the dataset for SMS Spam: spam.csv\n",
    "data = pd.read_csv(r'C:\\CodSoft_Projects\\archive\\spam.csv' , encoding='iso-8859-1')\n",
    "\n",
    "# Display the first few rows\n",
    "print(data.head())\n"
   ]
  },
  {
   "cell_type": "code",
   "execution_count": 10,
   "metadata": {},
   "outputs": [],
   "source": [
    "# Dropping columns Unnamed: 2, Unnamed: 3, Unnamed: 4, Since those columns didn't provide any values i.e NaN\n",
    "\n",
    "data = data.drop(['Unnamed: 2', 'Unnamed: 3', 'Unnamed: 4'], axis=1)\n"
   ]
  },
  {
   "cell_type": "code",
   "execution_count": 11,
   "metadata": {},
   "outputs": [],
   "source": [
    "# Rename columns v1 to label and v2 to message\n",
    "data = data.rename(columns={'v1': 'label', 'v2': 'message'})"
   ]
  },
  {
   "cell_type": "code",
   "execution_count": 12,
   "metadata": {},
   "outputs": [],
   "source": [
    "# Convert the labels into a binary format (i.e., 1 for spam and 0 for ham).\n",
    "data['label'] = data['label'].map({'ham': 0, 'spam': 1})"
   ]
  },
  {
   "cell_type": "code",
   "execution_count": 13,
   "metadata": {},
   "outputs": [
    {
     "name": "stdout",
     "output_type": "stream",
     "text": [
      "label      0\n",
      "message    0\n",
      "dtype: int64\n"
     ]
    }
   ],
   "source": [
    "print(data.isnull().sum())"
   ]
  },
  {
   "cell_type": "code",
   "execution_count": 14,
   "metadata": {},
   "outputs": [
    {
     "data": {
      "text/html": [
       "<div>\n",
       "<style scoped>\n",
       "    .dataframe tbody tr th:only-of-type {\n",
       "        vertical-align: middle;\n",
       "    }\n",
       "\n",
       "    .dataframe tbody tr th {\n",
       "        vertical-align: top;\n",
       "    }\n",
       "\n",
       "    .dataframe thead th {\n",
       "        text-align: right;\n",
       "    }\n",
       "</style>\n",
       "<table border=\"1\" class=\"dataframe\">\n",
       "  <thead>\n",
       "    <tr style=\"text-align: right;\">\n",
       "      <th></th>\n",
       "      <th>label</th>\n",
       "      <th>message</th>\n",
       "    </tr>\n",
       "  </thead>\n",
       "  <tbody>\n",
       "    <tr>\n",
       "      <th>0</th>\n",
       "      <td>0</td>\n",
       "      <td>Go until jurong point, crazy.. Available only ...</td>\n",
       "    </tr>\n",
       "    <tr>\n",
       "      <th>1</th>\n",
       "      <td>0</td>\n",
       "      <td>Ok lar... Joking wif u oni...</td>\n",
       "    </tr>\n",
       "    <tr>\n",
       "      <th>2</th>\n",
       "      <td>1</td>\n",
       "      <td>Free entry in 2 a wkly comp to win FA Cup fina...</td>\n",
       "    </tr>\n",
       "    <tr>\n",
       "      <th>3</th>\n",
       "      <td>0</td>\n",
       "      <td>U dun say so early hor... U c already then say...</td>\n",
       "    </tr>\n",
       "    <tr>\n",
       "      <th>4</th>\n",
       "      <td>0</td>\n",
       "      <td>Nah I don't think he goes to usf, he lives aro...</td>\n",
       "    </tr>\n",
       "  </tbody>\n",
       "</table>\n",
       "</div>"
      ],
      "text/plain": [
       "   label                                            message\n",
       "0      0  Go until jurong point, crazy.. Available only ...\n",
       "1      0                      Ok lar... Joking wif u oni...\n",
       "2      1  Free entry in 2 a wkly comp to win FA Cup fina...\n",
       "3      0  U dun say so early hor... U c already then say...\n",
       "4      0  Nah I don't think he goes to usf, he lives aro..."
      ]
     },
     "execution_count": 14,
     "metadata": {},
     "output_type": "execute_result"
    }
   ],
   "source": [
    "data.head()"
   ]
  },
  {
   "cell_type": "code",
   "execution_count": 15,
   "metadata": {},
   "outputs": [
    {
     "data": {
      "text/plain": [
       "'\\n\\nThis represents how the messages are cleaned and only indicated in two columns \\none with label as 0 or 1 for Spam and Not-Spam respectively.\\n\\nThe Messages Column contains the messages. \\n\\n'"
      ]
     },
     "execution_count": 15,
     "metadata": {},
     "output_type": "execute_result"
    }
   ],
   "source": [
    "\"\"\"\n",
    "\n",
    "This represents how the messages are cleaned and only indicated in two columns \n",
    "one with label as 0 or 1 for Spam and Not-Spam respectively.\n",
    "\n",
    "The Messages Column contains the messages. \n",
    "\n",
    "\"\"\"\n"
   ]
  },
  {
   "cell_type": "code",
   "execution_count": 16,
   "metadata": {},
   "outputs": [],
   "source": [
    "from nltk.corpus import stopwords\n",
    "from nltk.stem import PorterStemmer\n",
    "from nltk.tokenize import word_tokenize\n",
    "import string\n",
    "\n",
    "stop_words = set(stopwords.words('english'))\n",
    "stemmer = PorterStemmer()\n",
    "\n",
    "def clean_text(text):\n",
    "    # Lowercasing\n",
    "    text = text.lower()\n",
    "    # Removing punctuation\n",
    "    text = \"\".join([char for char in text if char not in string.punctuation])\n",
    "    # Tokenization\n",
    "    words = word_tokenize(text)\n",
    "    # Removing stopwords and stemming\n",
    "    words = [stemmer.stem(word) for word in words if word not in stop_words]\n",
    "    return \" \".join(words)\n",
    "\n",
    "data['cleaned_message'] = data['message'].apply(clean_text)\n"
   ]
  },
  {
   "cell_type": "code",
   "execution_count": 17,
   "metadata": {},
   "outputs": [
    {
     "data": {
      "text/html": [
       "<div>\n",
       "<style scoped>\n",
       "    .dataframe tbody tr th:only-of-type {\n",
       "        vertical-align: middle;\n",
       "    }\n",
       "\n",
       "    .dataframe tbody tr th {\n",
       "        vertical-align: top;\n",
       "    }\n",
       "\n",
       "    .dataframe thead th {\n",
       "        text-align: right;\n",
       "    }\n",
       "</style>\n",
       "<table border=\"1\" class=\"dataframe\">\n",
       "  <thead>\n",
       "    <tr style=\"text-align: right;\">\n",
       "      <th></th>\n",
       "      <th>label</th>\n",
       "      <th>message</th>\n",
       "      <th>cleaned_message</th>\n",
       "    </tr>\n",
       "  </thead>\n",
       "  <tbody>\n",
       "    <tr>\n",
       "      <th>0</th>\n",
       "      <td>0</td>\n",
       "      <td>Go until jurong point, crazy.. Available only ...</td>\n",
       "      <td>go jurong point crazi avail bugi n great world...</td>\n",
       "    </tr>\n",
       "    <tr>\n",
       "      <th>1</th>\n",
       "      <td>0</td>\n",
       "      <td>Ok lar... Joking wif u oni...</td>\n",
       "      <td>ok lar joke wif u oni</td>\n",
       "    </tr>\n",
       "    <tr>\n",
       "      <th>2</th>\n",
       "      <td>1</td>\n",
       "      <td>Free entry in 2 a wkly comp to win FA Cup fina...</td>\n",
       "      <td>free entri 2 wkli comp win fa cup final tkt 21...</td>\n",
       "    </tr>\n",
       "    <tr>\n",
       "      <th>3</th>\n",
       "      <td>0</td>\n",
       "      <td>U dun say so early hor... U c already then say...</td>\n",
       "      <td>u dun say earli hor u c alreadi say</td>\n",
       "    </tr>\n",
       "    <tr>\n",
       "      <th>4</th>\n",
       "      <td>0</td>\n",
       "      <td>Nah I don't think he goes to usf, he lives aro...</td>\n",
       "      <td>nah dont think goe usf live around though</td>\n",
       "    </tr>\n",
       "  </tbody>\n",
       "</table>\n",
       "</div>"
      ],
      "text/plain": [
       "   label                                            message  \\\n",
       "0      0  Go until jurong point, crazy.. Available only ...   \n",
       "1      0                      Ok lar... Joking wif u oni...   \n",
       "2      1  Free entry in 2 a wkly comp to win FA Cup fina...   \n",
       "3      0  U dun say so early hor... U c already then say...   \n",
       "4      0  Nah I don't think he goes to usf, he lives aro...   \n",
       "\n",
       "                                     cleaned_message  \n",
       "0  go jurong point crazi avail bugi n great world...  \n",
       "1                              ok lar joke wif u oni  \n",
       "2  free entri 2 wkli comp win fa cup final tkt 21...  \n",
       "3                u dun say earli hor u c alreadi say  \n",
       "4          nah dont think goe usf live around though  "
      ]
     },
     "execution_count": 17,
     "metadata": {},
     "output_type": "execute_result"
    }
   ],
   "source": [
    "data.head()"
   ]
  },
  {
   "cell_type": "code",
   "execution_count": 18,
   "metadata": {},
   "outputs": [
    {
     "data": {
      "image/png": "[encoded data removed]",
      "text/plain": [
       "<Figure size 640x480 with 1 Axes>"
      ]
     },
     "metadata": {},
     "output_type": "display_data"
    }
   ],
   "source": [
    "import matplotlib.pyplot as plt\n",
    "\n",
    "data['label'].value_counts().plot(kind='bar')\n",
    "plt.title('Distribution of Spam and Non-Spam Messages')\n",
    "plt.xlabel('Label')\n",
    "plt.ylabel('Count')\n",
    "plt.show()"
   ]
  },
  {
   "cell_type": "code",
   "execution_count": 19,
   "metadata": {},
   "outputs": [],
   "source": [
    "from sklearn.feature_extraction.text import TfidfVectorizer\n",
    "\n",
    "# Creating the TF-IDF vectorizer\n",
    "vectorizer = TfidfVectorizer(max_features=5000)  #Optimal value\n",
    "X = vectorizer.fit_transform(data['cleaned_message'])\n",
    "\n",
    "# This is the feature set\n",
    "X = X.toarray()\n",
    "\n",
    "# This is the target variable\n",
    "y = data['label'].values"
   ]
  },
  {
   "cell_type": "code",
   "execution_count": 20,
   "metadata": {},
   "outputs": [],
   "source": [
    "from sklearn.model_selection import train_test_split\n",
    "\n",
    "X_train, X_test, y_train, y_test = train_test_split(X, y, test_size=0.2, random_state=42)\n"
   ]
  },
  {
   "cell_type": "code",
   "execution_count": 21,
   "metadata": {},
   "outputs": [
    {
     "name": "stdout",
     "output_type": "stream",
     "text": [
      "Accuracy: 0.9739910313901345\n",
      "              precision    recall  f1-score   support\n",
      "\n",
      "           0       0.97      1.00      0.99       965\n",
      "           1       1.00      0.81      0.89       150\n",
      "\n",
      "    accuracy                           0.97      1115\n",
      "   macro avg       0.99      0.90      0.94      1115\n",
      "weighted avg       0.97      0.97      0.97      1115\n",
      "\n"
     ]
    }
   ],
   "source": [
    "from sklearn.naive_bayes import MultinomialNB\n",
    "from sklearn.metrics import accuracy_score, classification_report\n",
    "\n",
    "# Training the Naive Bayes model\n",
    "model = MultinomialNB()\n",
    "model.fit(X_train, y_train)\n",
    "\n",
    "# Predicting the Test set results\n",
    "y_pred = model.predict(X_test)\n",
    "\n",
    "# Evaluating the Model\n",
    "print(\"Accuracy:\", accuracy_score(y_test, y_pred))\n",
    "print(classification_report(y_test, y_pred))\n"
   ]
  },
  {
   "cell_type": "code",
   "execution_count": 22,
   "metadata": {},
   "outputs": [
    {
     "name": "stdout",
     "output_type": "stream",
     "text": [
      "Accuracy: 0.9721973094170404\n",
      "              precision    recall  f1-score   support\n",
      "\n",
      "           0       0.97      1.00      0.98       965\n",
      "           1       0.99      0.80      0.89       150\n",
      "\n",
      "    accuracy                           0.97      1115\n",
      "   macro avg       0.98      0.90      0.93      1115\n",
      "weighted avg       0.97      0.97      0.97      1115\n",
      "\n"
     ]
    }
   ],
   "source": [
    "from sklearn.svm import SVC\n",
    "\n",
    "# Training the SVM model\n",
    "svm_model = SVC()\n",
    "svm_model.fit(X_train, y_train)\n",
    "\n",
    "# Predicting the Test set results\n",
    "y_pred_svm = svm_model.predict(X_test)\n",
    "\n",
    "# Evaluating the Model\n",
    "print(\"Accuracy:\", accuracy_score(y_test, y_pred_svm))\n",
    "print(classification_report(y_test, y_pred_svm))\n"
   ]
  },
  {
   "cell_type": "code",
   "execution_count": 23,
   "metadata": {},
   "outputs": [
    {
     "name": "stdout",
     "output_type": "stream",
     "text": [
      "Fitting 2 folds for each of 72 candidates, totalling 144 fits\n",
      "[CV] END .....................C=0.1, gamma=scale, kernel=rbf; total time=  43.0s\n",
      "[CV] END .....................C=0.1, gamma=scale, kernel=rbf; total time=  36.3s\n",
      "[CV] END ....................C=0.1, gamma=scale, kernel=poly; total time=  37.5s\n",
      "[CV] END ....................C=0.1, gamma=scale, kernel=poly; total time=  35.1s\n",
      "[CV] END .................C=0.1, gamma=scale, kernel=sigmoid; total time=  13.9s\n",
      "[CV] END .................C=0.1, gamma=scale, kernel=sigmoid; total time=  13.6s\n",
      "[CV] END ......................C=0.1, gamma=auto, kernel=rbf; total time=  14.6s\n",
      "[CV] END ......................C=0.1, gamma=auto, kernel=rbf; total time=  14.6s\n",
      "[CV] END .....................C=0.1, gamma=auto, kernel=poly; total time=  10.2s\n",
      "[CV] END .....................C=0.1, gamma=auto, kernel=poly; total time=  10.1s\n",
      "[CV] END ..................C=0.1, gamma=auto, kernel=sigmoid; total time=  10.3s\n",
      "[CV] END ..................C=0.1, gamma=auto, kernel=sigmoid; total time=  10.2s\n",
      "[CV] END .......................C=0.1, gamma=0.1, kernel=rbf; total time=  21.4s\n",
      "[CV] END .......................C=0.1, gamma=0.1, kernel=rbf; total time=  21.0s\n",
      "[CV] END ......................C=0.1, gamma=0.1, kernel=poly; total time=  10.0s\n",
      "[CV] END ......................C=0.1, gamma=0.1, kernel=poly; total time=  11.2s\n",
      "[CV] END ...................C=0.1, gamma=0.1, kernel=sigmoid; total time=  22.6s\n",
      "[CV] END ...................C=0.1, gamma=0.1, kernel=sigmoid; total time=  17.9s\n",
      "[CV] END .........................C=0.1, gamma=1, kernel=rbf; total time=  38.2s\n",
      "[CV] END .........................C=0.1, gamma=1, kernel=rbf; total time=  38.7s\n",
      "[CV] END ........................C=0.1, gamma=1, kernel=poly; total time=  38.1s\n",
      "[CV] END ........................C=0.1, gamma=1, kernel=poly; total time=  34.5s\n",
      "[CV] END .....................C=0.1, gamma=1, kernel=sigmoid; total time=  13.1s\n",
      "[CV] END .....................C=0.1, gamma=1, kernel=sigmoid; total time=  13.9s\n",
      "[CV] END ........................C=0.1, gamma=10, kernel=rbf; total time=  57.0s\n",
      "[CV] END ........................C=0.1, gamma=10, kernel=rbf; total time=  57.9s\n",
      "[CV] END .......................C=0.1, gamma=10, kernel=poly; total time=  34.2s\n",
      "[CV] END .......................C=0.1, gamma=10, kernel=poly; total time=  28.3s\n",
      "[CV] END ....................C=0.1, gamma=10, kernel=sigmoid; total time=   8.3s\n",
      "[CV] END ....................C=0.1, gamma=10, kernel=sigmoid; total time=   8.0s\n",
      "[CV] END .......................C=0.1, gamma=100, kernel=rbf; total time=  56.5s\n",
      "[CV] END .......................C=0.1, gamma=100, kernel=rbf; total time=  49.9s\n",
      "[CV] END ......................C=0.1, gamma=100, kernel=poly; total time=  28.5s\n",
      "[CV] END ......................C=0.1, gamma=100, kernel=poly; total time=  28.0s\n",
      "[CV] END ...................C=0.1, gamma=100, kernel=sigmoid; total time=   7.7s\n",
      "[CV] END ...................C=0.1, gamma=100, kernel=sigmoid; total time=   7.4s\n",
      "[CV] END .......................C=1, gamma=scale, kernel=rbf; total time=  37.1s\n",
      "[CV] END .......................C=1, gamma=scale, kernel=rbf; total time=  37.1s\n",
      "[CV] END ......................C=1, gamma=scale, kernel=poly; total time=  34.6s\n",
      "[CV] END ......................C=1, gamma=scale, kernel=poly; total time=  36.2s\n",
      "[CV] END ...................C=1, gamma=scale, kernel=sigmoid; total time=  11.1s\n",
      "[CV] END ...................C=1, gamma=scale, kernel=sigmoid; total time=   9.8s\n",
      "[CV] END ........................C=1, gamma=auto, kernel=rbf; total time=  16.1s\n",
      "[CV] END ........................C=1, gamma=auto, kernel=rbf; total time=  14.1s\n",
      "[CV] END .......................C=1, gamma=auto, kernel=poly; total time=   9.7s\n",
      "[CV] END .......................C=1, gamma=auto, kernel=poly; total time=   9.6s\n",
      "[CV] END ....................C=1, gamma=auto, kernel=sigmoid; total time=   9.6s\n",
      "[CV] END ....................C=1, gamma=auto, kernel=sigmoid; total time=   9.7s\n",
      "[CV] END .........................C=1, gamma=0.1, kernel=rbf; total time=  21.4s\n",
      "[CV] END .........................C=1, gamma=0.1, kernel=rbf; total time=  20.8s\n",
      "[CV] END ........................C=1, gamma=0.1, kernel=poly; total time=  10.0s\n",
      "[CV] END ........................C=1, gamma=0.1, kernel=poly; total time=   9.9s\n",
      "[CV] END .....................C=1, gamma=0.1, kernel=sigmoid; total time=  14.1s\n",
      "[CV] END .....................C=1, gamma=0.1, kernel=sigmoid; total time=  13.8s\n",
      "[CV] END ...........................C=1, gamma=1, kernel=rbf; total time=  38.4s\n",
      "[CV] END ...........................C=1, gamma=1, kernel=rbf; total time=  36.6s\n",
      "[CV] END ..........................C=1, gamma=1, kernel=poly; total time=  34.5s\n",
      "[CV] END ..........................C=1, gamma=1, kernel=poly; total time=  33.3s\n",
      "[CV] END .......................C=1, gamma=1, kernel=sigmoid; total time=  13.7s\n",
      "[CV] END .......................C=1, gamma=1, kernel=sigmoid; total time=  10.0s\n",
      "[CV] END ..........................C=1, gamma=10, kernel=rbf; total time=  51.1s\n",
      "[CV] END ..........................C=1, gamma=10, kernel=rbf; total time=  46.2s\n",
      "[CV] END .........................C=1, gamma=10, kernel=poly; total time=  26.3s\n",
      "[CV] END .........................C=1, gamma=10, kernel=poly; total time=  25.0s\n",
      "[CV] END ......................C=1, gamma=10, kernel=sigmoid; total time=   4.5s\n",
      "[CV] END ......................C=1, gamma=10, kernel=sigmoid; total time=   4.3s\n",
      "[CV] END .........................C=1, gamma=100, kernel=rbf; total time=  47.1s\n",
      "[CV] END .........................C=1, gamma=100, kernel=rbf; total time=  45.9s\n",
      "[CV] END ........................C=1, gamma=100, kernel=poly; total time=  26.6s\n",
      "[CV] END ........................C=1, gamma=100, kernel=poly; total time=  24.7s\n",
      "[CV] END .....................C=1, gamma=100, kernel=sigmoid; total time=   5.1s\n",
      "[CV] END .....................C=1, gamma=100, kernel=sigmoid; total time=   4.9s\n",
      "[CV] END ......................C=10, gamma=scale, kernel=rbf; total time=  36.3s\n",
      "[CV] END ......................C=10, gamma=scale, kernel=rbf; total time=  35.2s\n",
      "[CV] END .....................C=10, gamma=scale, kernel=poly; total time=  32.2s\n",
      "[CV] END .....................C=10, gamma=scale, kernel=poly; total time=  32.0s\n",
      "[CV] END ..................C=10, gamma=scale, kernel=sigmoid; total time=   6.6s\n",
      "[CV] END ..................C=10, gamma=scale, kernel=sigmoid; total time=   5.8s\n",
      "[CV] END .......................C=10, gamma=auto, kernel=rbf; total time=  17.2s\n",
      "[CV] END .......................C=10, gamma=auto, kernel=rbf; total time=  16.9s\n",
      "[CV] END ......................C=10, gamma=auto, kernel=poly; total time=   9.1s\n",
      "[CV] END ......................C=10, gamma=auto, kernel=poly; total time=   8.9s\n",
      "[CV] END ...................C=10, gamma=auto, kernel=sigmoid; total time=  10.6s\n",
      "[CV] END ...................C=10, gamma=auto, kernel=sigmoid; total time=  10.5s\n",
      "[CV] END ........................C=10, gamma=0.1, kernel=rbf; total time=  18.5s\n",
      "[CV] END ........................C=10, gamma=0.1, kernel=rbf; total time=  16.9s\n",
      "[CV] END .......................C=10, gamma=0.1, kernel=poly; total time=  39.0s\n",
      "[CV] END .......................C=10, gamma=0.1, kernel=poly; total time=  39.4s\n",
      "[CV] END ....................C=10, gamma=0.1, kernel=sigmoid; total time=  15.4s\n",
      "[CV] END ....................C=10, gamma=0.1, kernel=sigmoid; total time=  15.5s\n",
      "[CV] END ..........................C=10, gamma=1, kernel=rbf; total time= 1.1min\n",
      "[CV] END ..........................C=10, gamma=1, kernel=rbf; total time=  53.8s\n",
      "[CV] END .........................C=10, gamma=1, kernel=poly; total time=  42.2s\n",
      "[CV] END .........................C=10, gamma=1, kernel=poly; total time=  55.7s\n",
      "[CV] END ......................C=10, gamma=1, kernel=sigmoid; total time=   8.9s\n",
      "[CV] END ......................C=10, gamma=1, kernel=sigmoid; total time=   9.6s\n",
      "[CV] END .........................C=10, gamma=10, kernel=rbf; total time= 1.2min\n",
      "[CV] END .........................C=10, gamma=10, kernel=rbf; total time= 1.3min\n",
      "[CV] END ........................C=10, gamma=10, kernel=poly; total time=  40.7s\n",
      "[CV] END ........................C=10, gamma=10, kernel=poly; total time=  37.0s\n",
      "[CV] END .....................C=10, gamma=10, kernel=sigmoid; total time=   4.1s\n",
      "[CV] END .....................C=10, gamma=10, kernel=sigmoid; total time=   3.8s\n",
      "[CV] END ........................C=10, gamma=100, kernel=rbf; total time=  56.4s\n",
      "[CV] END ........................C=10, gamma=100, kernel=rbf; total time= 1.2min\n",
      "[CV] END .......................C=10, gamma=100, kernel=poly; total time=  50.2s\n",
      "[CV] END .......................C=10, gamma=100, kernel=poly; total time=  38.0s\n",
      "[CV] END ....................C=10, gamma=100, kernel=sigmoid; total time=   6.0s\n",
      "[CV] END ....................C=10, gamma=100, kernel=sigmoid; total time=   8.0s\n",
      "[CV] END .....................C=100, gamma=scale, kernel=rbf; total time=  47.8s\n",
      "[CV] END .....................C=100, gamma=scale, kernel=rbf; total time= 1.0min\n",
      "[CV] END ....................C=100, gamma=scale, kernel=poly; total time= 1.0min\n",
      "[CV] END ....................C=100, gamma=scale, kernel=poly; total time=  53.9s\n",
      "[CV] END .................C=100, gamma=scale, kernel=sigmoid; total time=  11.6s\n",
      "[CV] END .................C=100, gamma=scale, kernel=sigmoid; total time=  14.9s\n",
      "[CV] END ......................C=100, gamma=auto, kernel=rbf; total time=  42.4s\n",
      "[CV] END ......................C=100, gamma=auto, kernel=rbf; total time=  28.7s\n",
      "[CV] END .....................C=100, gamma=auto, kernel=poly; total time=  11.0s\n",
      "[CV] END .....................C=100, gamma=auto, kernel=poly; total time=  12.2s\n",
      "[CV] END ..................C=100, gamma=auto, kernel=sigmoid; total time=  13.3s\n",
      "[CV] END ..................C=100, gamma=auto, kernel=sigmoid; total time=  14.6s\n",
      "[CV] END .......................C=100, gamma=0.1, kernel=rbf; total time=  21.3s\n",
      "[CV] END .......................C=100, gamma=0.1, kernel=rbf; total time=  19.2s\n",
      "[CV] END ......................C=100, gamma=0.1, kernel=poly; total time=  45.4s\n",
      "[CV] END ......................C=100, gamma=0.1, kernel=poly; total time=  32.2s\n",
      "[CV] END ...................C=100, gamma=0.1, kernel=sigmoid; total time=   9.7s\n",
      "[CV] END ...................C=100, gamma=0.1, kernel=sigmoid; total time=   8.6s\n",
      "[CV] END .........................C=100, gamma=1, kernel=rbf; total time=  32.7s\n",
      "[CV] END .........................C=100, gamma=1, kernel=rbf; total time=  32.9s\n",
      "[CV] END ........................C=100, gamma=1, kernel=poly; total time=  28.3s\n",
      "[CV] END ........................C=100, gamma=1, kernel=poly; total time=  26.8s\n",
      "[CV] END .....................C=100, gamma=1, kernel=sigmoid; total time=   5.4s\n",
      "[CV] END .....................C=100, gamma=1, kernel=sigmoid; total time=   3.7s\n",
      "[CV] END ........................C=100, gamma=10, kernel=rbf; total time=  49.3s\n",
      "[CV] END ........................C=100, gamma=10, kernel=rbf; total time=  49.4s\n",
      "[CV] END .......................C=100, gamma=10, kernel=poly; total time=  31.5s\n",
      "[CV] END .......................C=100, gamma=10, kernel=poly; total time=  30.4s\n",
      "[CV] END ....................C=100, gamma=10, kernel=sigmoid; total time=   4.3s\n",
      "[CV] END ....................C=100, gamma=10, kernel=sigmoid; total time=   4.4s\n",
      "[CV] END .......................C=100, gamma=100, kernel=rbf; total time=  55.0s\n",
      "[CV] END .......................C=100, gamma=100, kernel=rbf; total time= 1.1min\n",
      "[CV] END ......................C=100, gamma=100, kernel=poly; total time=  30.4s\n",
      "[CV] END ......................C=100, gamma=100, kernel=poly; total time=  27.2s\n",
      "[CV] END ...................C=100, gamma=100, kernel=sigmoid; total time=   5.0s\n",
      "[CV] END ...................C=100, gamma=100, kernel=sigmoid; total time=   4.7s\n",
      "Best Parameters found:  {'C': 10, 'gamma': 0.1, 'kernel': 'rbf'}\n",
      "Accuracy after hyperparameter tuning: 0.9802690582959641\n",
      "              precision    recall  f1-score   support\n",
      "\n",
      "           0       0.98      1.00      0.99       965\n",
      "           1       0.98      0.87      0.92       150\n",
      "\n",
      "    accuracy                           0.98      1115\n",
      "   macro avg       0.98      0.93      0.96      1115\n",
      "weighted avg       0.98      0.98      0.98      1115\n",
      "\n"
     ]
    }
   ],
   "source": [
    "from sklearn.model_selection import GridSearchCV\n",
    "from sklearn.svm import SVC\n",
    "\n",
    "# Define the parameter grid\n",
    "\n",
    "param_grid = {\n",
    "    'C': [0.1, 1, 10, 100],  \n",
    "    'gamma': ['scale', 'auto', 0.1, 1, 10, 100], \n",
    "    'kernel': ['rbf', 'poly', 'sigmoid'] \n",
    "}\n",
    "\n",
    "# Create a GridSearchCV object\n",
    "\n",
    "\"\"\"\n",
    "\n",
    "This is chosen as 2, \n",
    "which means each set of parameters is trained and evaluated 2 times\n",
    "on different subsets of the training data. \n",
    " \n",
    "\n",
    "Verbose is set to 2 to see twice more information during the training process.\n",
    "\n",
    "\"\"\"\n",
    "\n",
    "grid_search = GridSearchCV(SVC(), param_grid, refit=True, verbose=2, cv=2)  \n",
    "\n",
    "# Fit the model on the training data\n",
    "grid_search.fit(X_train, y_train)\n",
    "\n",
    "# Print out the best parameters\n",
    "print(\"Best Parameters found: \", grid_search.best_params_)\n",
    "\n",
    "# T0 Use the best estimator to make predictions\n",
    "y_pred_best = grid_search.predict(X_test)\n",
    "\n",
    "# Evaluate the best model\n",
    "print(\"Accuracy after hyperparameter tuning:\", accuracy_score(y_test, y_pred_best))\n",
    "print(classification_report(y_test, y_pred_best))\n"
   ]
  },
  {
   "cell_type": "code",
   "execution_count": 24,
   "metadata": {},
   "outputs": [
    {
     "data": {
      "text/plain": [
       "\"\\nInterpretation of Results:\\n\\nBest Parameters: The best parameters found are {'C': 10, 'gamma': 0.1, 'kernel': 'rbf'}. \\nThis means that for this trained dataset, \\nan SVM model with an RBF kernel, \\na regularization parameter C of 10, and a gamma value of 0.1 yields the best performance.\\n\\nAccuracy Improvement: The accuracy after hyperparameter tuning is 0.9803, \\nwhich is an improvement from the previous accuracy of 0.9722. \\nThis indicates that the tuning process has successfully found a better set of parameters for the model.\\n\\nResults:\\n\\nFor class 0 (non-spam), \\nthe precision is 0.98, and the recall is 1.00, resulting in an F1-score of 0.99. \\nThis is excellent performance, indicating that the model is very effective at identifying non-spam messages.\\n\\nFor class 1 (spam), \\nthe precision is 0.98, and the recall is 0.87, with an F1-score of 0.92. \\nThis is also a strong result, though the slightly lower recall suggests that \\nthere are some spam messages that the model fails to identify.\\n\\n\\nSo Our Overall Performance: The weighted averages of precision, recall, and F1-score are all around 0.98, \\nindicating a highly effective model across both classes.\\n\\n\""
      ]
     },
     "execution_count": 24,
     "metadata": {},
     "output_type": "execute_result"
    }
   ],
   "source": [
    "\"\"\"\n",
    "Interpretation of Results:\n",
    "\n",
    "Best Parameters: The best parameters found are {'C': 10, 'gamma': 0.1, 'kernel': 'rbf'}. \n",
    "This means that for this trained dataset, \n",
    "an SVM model with an RBF kernel, \n",
    "a regularization parameter C of 10, and a gamma value of 0.1 yields the best performance.\n",
    "\n",
    "Accuracy Improvement: The accuracy after hyperparameter tuning is 0.9803, \n",
    "which is an improvement from the previous accuracy of 0.9722. \n",
    "This indicates that the tuning process has successfully found a better set of parameters for the model.\n",
    "\n",
    "Results:\n",
    "\n",
    "For class 0 (non-spam), \n",
    "the precision is 0.98, and the recall is 1.00, resulting in an F1-score of 0.99. \n",
    "This is excellent performance, indicating that the model is very effective at identifying non-spam messages.\n",
    "\n",
    "For class 1 (spam), \n",
    "the precision is 0.98, and the recall is 0.87, with an F1-score of 0.92. \n",
    "This is also a strong result, though the slightly lower recall suggests that \n",
    "there are some spam messages that the model fails to identify.\n",
    "\n",
    "\n",
    "So Our Overall Performance: The weighted averages of precision, recall, and F1-score are all around 0.98, \n",
    "indicating a highly effective model across both classes.\n",
    "\n",
    "\"\"\""
   ]
  },
  {
   "cell_type": "code",
   "execution_count": 38,
   "metadata": {},
   "outputs": [
    {
     "data": {
      "text/plain": [
       "['tfidf_transformer.joblib']"
      ]
     },
     "execution_count": 38,
     "metadata": {},
     "output_type": "execute_result"
    }
   ],
   "source": [
    "from joblib import dump\n",
    "\n",
    "# Save the trained model\n",
    "dump(svm_model, 'sms_spam_classifier.joblib')\n",
    "\n",
    "# Save the transformer\n",
    "joblib.dump(vectorizer, 'tfidf_transformer.joblib')\n"
   ]
  },
  {
   "cell_type": "code",
   "execution_count": 41,
   "metadata": {},
   "outputs": [],
   "source": [
    "# Create the preprocess function to clean the input text from the user in the same way the model is trained on. \n",
    "def preprocess_message(message):\n",
    "    # Lowercasing\n",
    "    message = message.lower()\n",
    "    # Removing punctuation\n",
    "    message = \"\".join([char for char in message if char not in string.punctuation])\n",
    "    # Tokenization\n",
    "    words = word_tokenize(message)\n",
    "    # Removing stopwords and stemming\n",
    "    words = [stemmer.stem(word) for word in words if word not in stop_words]\n",
    "    return \" \".join(words)\n",
    "\n",
    "# Create the Prediction function. \n",
    "\n",
    "def predict_spam(message):\n",
    "    processed_message = preprocess_message(message)\n",
    "\n",
    "    # Load the saved model and transformer\n",
    "    model = joblib.load('sms_spam_classifier.joblib')\n",
    "    tfidf_transformer = joblib.load('tfidf_transformer.joblib')\n",
    "\n",
    "    # Transform the processed message\n",
    "    transformed_message = tfidf_transformer.transform([processed_message])\n",
    "\n",
    "    # Convert sparse matrix to dense\n",
    "    dense_message = transformed_message.toarray()\n",
    "\n",
    "    # Make a prediction\n",
    "    prediction = model.predict(dense_message)\n",
    "\n",
    "    return 'Spam' if prediction[0] == 1 else 'Not Spam'\n",
    "\n",
    "\n"
   ]
  },
  {
   "cell_type": "code",
   "execution_count": 34,
   "metadata": {},
   "outputs": [],
   "source": [
    "def get_user_input_and_predict():\n",
    "    message = input(\"Enter a message to check if it's spam or not: \")\n",
    "    result = predict_spam(message)\n",
    "    print(f\"The message is: {result}\")\n",
    "\n"
   ]
  },
  {
   "cell_type": "code",
   "execution_count": 42,
   "metadata": {},
   "outputs": [
    {
     "name": "stdout",
     "output_type": "stream",
     "text": [
      "The message is: Spam\n"
     ]
    }
   ],
   "source": [
    "# Using the function to predict messages as spam or not spam. \n",
    "# Test 1 : Input : Congratulations! You've won a $1000 Walmart gift card. Go to http://example.com to claim now.\n",
    "get_user_input_and_predict()\n"
   ]
  },
  {
   "cell_type": "code",
   "execution_count": 44,
   "metadata": {},
   "outputs": [
    {
     "name": "stdout",
     "output_type": "stream",
     "text": [
      "The message is: Not Spam\n"
     ]
    }
   ],
   "source": [
    "# Test 1 : Input : Hey, are we still meeting for lunch tomorrow? Don't forget to bring the book I lent you.\n",
    "get_user_input_and_predict()"
   ]
  },
  {
   "cell_type": "code",
   "execution_count": null,
   "metadata": {},
   "outputs": [],
   "source": []
  }
 ],
 "metadata": {
  "kernelspec": {
   "display_name": "Python 3",
   "language": "python",
   "name": "python3"
  },
  "language_info": {
   "codemirror_mode": {
    "name": "ipython",
    "version": 3
   },
   "file_extension": ".py",
   "mimetype": "text/x-python",
   "name": "python",
   "nbconvert_exporter": "python",
   "pygments_lexer": "ipython3",
   "version": "3.9.6"
  },
  "orig_nbformat": 4
 },
 "nbformat": 4,
 "nbformat_minor": 2
}
